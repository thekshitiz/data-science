{
  "nbformat": 4,
  "nbformat_minor": 0,
  "metadata": {
    "colab": {
      "provenance": []
    },
    "kernelspec": {
      "name": "python3",
      "display_name": "Python 3"
    },
    "language_info": {
      "name": "python"
    }
  },
  "cells": [
    {
      "cell_type": "code",
      "execution_count": 1,
      "metadata": {
        "id": "CC2fNdG60Wiz"
      },
      "outputs": [],
      "source": [
        "# datatypes\n",
        "p=1\n",
        "q=2.2\n",
        "r=\"kshitiz\"\n",
        "s=True"
      ]
    },
    {
      "cell_type": "code",
      "source": [
        "print(type(p))"
      ],
      "metadata": {
        "colab": {
          "base_uri": "https://localhost:8080/"
        },
        "id": "lhyJwnOa0euo",
        "outputId": "ed387071-bc5b-4b88-d960-05a23927a3eb"
      },
      "execution_count": 2,
      "outputs": [
        {
          "output_type": "stream",
          "name": "stdout",
          "text": [
            "<class 'int'>\n"
          ]
        }
      ]
    },
    {
      "cell_type": "code",
      "source": [
        "print(type(p))\n",
        "print(type(q))\n",
        "print(type(r))\n",
        "print(type(s))\n"
      ],
      "metadata": {
        "colab": {
          "base_uri": "https://localhost:8080/"
        },
        "id": "PBvioWbH0iBW",
        "outputId": "c3565399-9ece-435d-c7ea-86d95ff896c2"
      },
      "execution_count": 3,
      "outputs": [
        {
          "output_type": "stream",
          "name": "stdout",
          "text": [
            "<class 'int'>\n",
            "<class 'float'>\n",
            "<class 'str'>\n",
            "<class 'bool'>\n"
          ]
        }
      ]
    },
    {
      "cell_type": "code",
      "source": [
        "# wekcine# output and Input \n",
        "print(\"welcome\")"
      ],
      "metadata": {
        "colab": {
          "base_uri": "https://localhost:8080/"
        },
        "id": "Pz-0FXfS0pnP",
        "outputId": "bd334b90-6dd6-401d-e75c-33ade528687f"
      },
      "execution_count": 4,
      "outputs": [
        {
          "output_type": "stream",
          "name": "stdout",
          "text": [
            "welcome\n"
          ]
        }
      ]
    },
    {
      "cell_type": "code",
      "source": [
        "#python is a dynamically typed language \n",
        "# input ---------> string\n",
        "# for interger  --> you must change the type ( typecast)\n",
        "\n",
        "a = int(input(\"enter a nnumber\"))\n",
        "b = int(input(\"enter a nnumber\"))\n",
        "c = a+b \n",
        "print(c)"
      ],
      "metadata": {
        "colab": {
          "base_uri": "https://localhost:8080/"
        },
        "id": "61t97IIY09-h",
        "outputId": "63d14007-b960-4d81-9836-c86835416f84"
      },
      "execution_count": 5,
      "outputs": [
        {
          "output_type": "stream",
          "name": "stdout",
          "text": [
            "enter a nnumber2\n",
            "enter a nnumber2\n",
            "4\n"
          ]
        }
      ]
    },
    {
      "cell_type": "code",
      "source": [],
      "metadata": {
        "id": "OBwucyKC1Yfo"
      },
      "execution_count": 5,
      "outputs": []
    },
    {
      "cell_type": "code",
      "source": [],
      "metadata": {
        "id": "mRLiFz4E1h3o"
      },
      "execution_count": 5,
      "outputs": []
    }
  ]
}